{
 "cells": [
  {
   "cell_type": "code",
   "execution_count": 1,
   "metadata": {},
   "outputs": [],
   "source": [
    "import findspark\n",
    "findspark.init(\"/usr/local/spark\")\n",
    "import pyspark"
   ]
  },
  {
   "cell_type": "code",
   "execution_count": 2,
   "metadata": {},
   "outputs": [],
   "source": [
    "from pyspark.sql import SparkSession\n",
    "spark = SparkSession.builder.appName(\"Python Spark SQL example\").getOrCreate()"
   ]
  },
  {
   "cell_type": "code",
   "execution_count": 4,
   "metadata": {},
   "outputs": [],
   "source": [
    "salestxnDF = spark.read.load(\"salestxn_header.txt\", format=\"csv\", sep=\"\\t\", inferSchema=\"true\", header=\"true\")"
   ]
  },
  {
   "cell_type": "code",
   "execution_count": 5,
   "metadata": {},
   "outputs": [
    {
     "name": "stdout",
     "output_type": "stream",
     "text": [
      "root\n",
      " |-- txn_id: integer (nullable = true)\n",
      " |-- txn_date: string (nullable = true)\n",
      " |-- txn_cust_id: integer (nullable = true)\n",
      " |-- txn_amount: integer (nullable = true)\n",
      " |-- txn_item_category: string (nullable = true)\n",
      " |-- txn_item_name: string (nullable = true)\n",
      " |-- txn_city: string (nullable = true)\n",
      " |-- txn_state: string (nullable = true)\n",
      " |-- txn_payment: string (nullable = true)\n",
      "\n"
     ]
    }
   ],
   "source": [
    "salestxnDF.printSchema()"
   ]
  },
  {
   "cell_type": "code",
   "execution_count": 6,
   "metadata": {},
   "outputs": [],
   "source": [
    "salestxnDF.createOrReplaceTempView(\"salestxn\")"
   ]
  },
  {
   "cell_type": "code",
   "execution_count": 8,
   "metadata": {},
   "outputs": [
    {
     "name": "stdout",
     "output_type": "stream",
     "text": [
      "+------+----------+-----------+----------+--------------------+--------------------+----------+-------------+-----------+\n",
      "|txn_id|  txn_date|txn_cust_id|txn_amount|   txn_item_category|       txn_item_name|  txn_city|    txn_state|txn_payment|\n",
      "+------+----------+-----------+----------+--------------------+--------------------+----------+-------------+-----------+\n",
      "|   103|06-01-2014|    5000002|       558|  Exercise & Fitness|Weightlifting Mac...|  Gulbarga|    Karnataka|     credit|\n",
      "|   124|05-02-2014|    5000009|      9950|          Gymnastics|    Gymnastics Rings|   Gurgaon|      Haryana|     credit|\n",
      "|   130|06-03-2014|    5000001|     12690|  Outdoor Recreation|             Hunting|   Aligarh|Uttar Pradesh|     credit|\n",
      "|   155|10-03-2014|    5000007|     15487|  Outdoor Recreation|             Running| Bangalore|    Karnataka|     credit|\n",
      "|   153|02-04-2014|    5000005|      4482|Outdoor Play Equi...|   Lawn Water Slides|   Asansol|       Bengal|       cash|\n",
      "|   104|06-05-2014|    5000003|     19819|          Gymnastics|    Gymnastics Rings|   Chennai|   Tamil Nadu|     credit|\n",
      "|   139|08-05-2014|    5000007|     15060|  Outdoor Recreation|Camping & Backpac...|   Kolkata|       Bengal|     credit|\n",
      "|   135|05-06-2014|    5000008|      9896|         Team Sports|   Indoor Volleyball|    Bhopal|          M.P|     credit|\n",
      "|   141|11-07-2014|    5000005|     16510|         Team Sports|        Cheerleading|Coimbatore|   Tamil Nadu|     credit|\n",
      "|   160|11-07-2014|    5000001|      2143|       Winter Sports|        Snowboarding|  Amritsar|       Punjab|       cash|\n",
      "|   113|02-08-2014|    5000009|      4152|        Indoor Games|             Bowling| Bangalore|    Karnataka|     credit|\n",
      "|   125|06-10-2014|    5000003|     15120|        Water Sports|             Surfing|   Nanital|  Uttarakhand|     credit|\n",
      "|   143|09-10-2014|    5000004|      3852|  Outdoor Recreation|          Tetherball|  Dehradun|  Uttarakhand|       cash|\n",
      "|   123|10-10-2014|    5000009|      1964|        Water Sports|         Kitesurfing|Saint Paul|    Minnesota|     credit|\n",
      "|   145|09-11-2014|    5000001|     13537|        Water Sports|             Surfing|  Agartala|      Tripura|     credit|\n",
      "|   127|10-11-2014|    5000009|      3158|       Combat Sports|           Wrestling|     Hubli|    Karnataka|     credit|\n",
      "|   140|03-12-2014|    5000006|     17436|Outdoor Play Equi...|          Swing Sets|  Faridkot|       Punjab|     credit|\n",
      "|   136|04-12-2014|    5000008|     18526|               Games|         Board Games| Dibrugarh|        Assam|     credit|\n",
      "|   129|05-12-2014|    5000008|      7978|         Team Sports|             Cricket|    Kollam|       Kerala|     credit|\n",
      "|   154|06-12-2014|    5000004|      4446|        Water Sports|Scuba Diving & Sn...|  Varanasi|Uttar Pradesh|       cash|\n",
      "+------+----------+-----------+----------+--------------------+--------------------+----------+-------------+-----------+\n",
      "only showing top 20 rows\n",
      "\n"
     ]
    }
   ],
   "source": [
    "stxnDF = spark.sql(\"SELECT * from salestxn\").show()"
   ]
  },
  {
   "cell_type": "code",
   "execution_count": 9,
   "metadata": {},
   "outputs": [
    {
     "name": "stdout",
     "output_type": "stream",
     "text": [
      "+------+----------+-----------+----------+--------------------+--------------------+-------------+--------------+-----------+\n",
      "|txn_id|  txn_date|txn_cust_id|txn_amount|   txn_item_category|       txn_item_name|     txn_city|     txn_state|txn_payment|\n",
      "+------+----------+-----------+----------+--------------------+--------------------+-------------+--------------+-----------+\n",
      "|   130|06-03-2014|    5000001|     12690|  Outdoor Recreation|             Hunting|      Aligarh| Uttar Pradesh|     credit|\n",
      "|   155|10-03-2014|    5000007|     15487|  Outdoor Recreation|             Running|    Bangalore|     Karnataka|     credit|\n",
      "|   104|06-05-2014|    5000003|     19819|          Gymnastics|    Gymnastics Rings|      Chennai|    Tamil Nadu|     credit|\n",
      "|   139|08-05-2014|    5000007|     15060|  Outdoor Recreation|Camping & Backpac...|      Kolkata|        Bengal|     credit|\n",
      "|   141|11-07-2014|    5000005|     16510|         Team Sports|        Cheerleading|   Coimbatore|    Tamil Nadu|     credit|\n",
      "|   125|06-10-2014|    5000003|     15120|        Water Sports|             Surfing|      Nanital|   Uttarakhand|     credit|\n",
      "|   145|09-11-2014|    5000001|     13537|        Water Sports|             Surfing|     Agartala|       Tripura|     credit|\n",
      "|   140|03-12-2014|    5000006|     17436|Outdoor Play Equi...|          Swing Sets|     Faridkot|        Punjab|     credit|\n",
      "|   136|04-12-2014|    5000008|     18526|               Games|         Board Games|    Dibrugarh|         Assam|     credit|\n",
      "|   150|07-12-2014|    5000010|     14459|             Jumping|      Jumping Stilts|        Surat|        Gujrat|     credit|\n",
      "|   106|02-14-2014|    5000004|     19363|  Outdoor Recreation|Camping & Backpac...|      Sonipat|       Haryana|     credit|\n",
      "|   114|03-13-2014|    5000010|     10780|         Team Sports|        Field Hockey|        Patna|         Bihar|     credit|\n",
      "|   110|05-17-2014|    5000006|     15246|             Jumping|      Bungee Jumping|St. New Delhi|         Delhi|     credit|\n",
      "|   102|05-26-2014|    5000002|     19844|  Exercise & Fitness|Weightlifting Gloves|    Mangalore|     Karnataka|     credit|\n",
      "|   111|05-29-2014|    5000007|     18028|  Outdoor Recreation|             Archery|      Madurai|    Tamil Nadu|     credit|\n",
      "|   134|06-15-2014|    5000008|     15415|  Outdoor Recreation|          Lawn Games|    Vijaywada|Andhra Pradesh|     credit|\n",
      "|   112|06-18-2014|    5000009|     12139|Outdoor Play Equi...|          Swing Sets|       Jaipur|     Rajesthan|     credit|\n",
      "|   157|06-21-2014|    5000002|     17663|  Outdoor Recreation|          Geocaching|  Ghandinagar|        Gujrat|     credit|\n",
      "|   149|09-27-2014|    5000007|     15794|  Exercise & Fitness|      Exercise Bands|     Ludhiana|        Punjab|     credit|\n",
      "|   126|10-14-2014|    5000009|     14420|        Indoor Games|               Darts|    Allahabad| Uttar Pradesh|     credit|\n",
      "+------+----------+-----------+----------+--------------------+--------------------+-------------+--------------+-----------+\n",
      "only showing top 20 rows\n",
      "\n"
     ]
    }
   ],
   "source": [
    "stxnDF = spark.sql(\"SELECT * from salestxn WHERE txn_amount > 10000\").show()"
   ]
  },
  {
   "cell_type": "code",
   "execution_count": 11,
   "metadata": {},
   "outputs": [],
   "source": [
    "newformatDF = spark.sql(\"SELECT txn_id, txn_date, txn_cust_id, txn_amount, (txn_item_category, txn_item_name) as txn_item_details, txn_city, txn_state, txn_payment FROM salestxn WHERE txn_amount > 10000\")"
   ]
  },
  {
   "cell_type": "code",
   "execution_count": 14,
   "metadata": {},
   "outputs": [
    {
     "name": "stdout",
     "output_type": "stream",
     "text": [
      "+------+----------+-----------+----------+--------------------+-------------+--------------+-----------+\n",
      "|txn_id|  txn_date|txn_cust_id|txn_amount|    txn_item_details|     txn_city|     txn_state|txn_payment|\n",
      "+------+----------+-----------+----------+--------------------+-------------+--------------+-----------+\n",
      "|   130|06-03-2014|    5000001|     12690|[Outdoor Recreati...|      Aligarh| Uttar Pradesh|     credit|\n",
      "|   155|10-03-2014|    5000007|     15487|[Outdoor Recreati...|    Bangalore|     Karnataka|     credit|\n",
      "|   104|06-05-2014|    5000003|     19819|[Gymnastics,Gymna...|      Chennai|    Tamil Nadu|     credit|\n",
      "|   139|08-05-2014|    5000007|     15060|[Outdoor Recreati...|      Kolkata|        Bengal|     credit|\n",
      "|   141|11-07-2014|    5000005|     16510|[Team Sports,Chee...|   Coimbatore|    Tamil Nadu|     credit|\n",
      "|   125|06-10-2014|    5000003|     15120|[Water Sports,Sur...|      Nanital|   Uttarakhand|     credit|\n",
      "|   145|09-11-2014|    5000001|     13537|[Water Sports,Sur...|     Agartala|       Tripura|     credit|\n",
      "|   140|03-12-2014|    5000006|     17436|[Outdoor Play Equ...|     Faridkot|        Punjab|     credit|\n",
      "|   136|04-12-2014|    5000008|     18526| [Games,Board Games]|    Dibrugarh|         Assam|     credit|\n",
      "|   150|07-12-2014|    5000010|     14459|[Jumping,Jumping ...|        Surat|        Gujrat|     credit|\n",
      "|   106|02-14-2014|    5000004|     19363|[Outdoor Recreati...|      Sonipat|       Haryana|     credit|\n",
      "|   114|03-13-2014|    5000010|     10780|[Team Sports,Fiel...|        Patna|         Bihar|     credit|\n",
      "|   110|05-17-2014|    5000006|     15246|[Jumping,Bungee J...|St. New Delhi|         Delhi|     credit|\n",
      "|   102|05-26-2014|    5000002|     19844|[Exercise & Fitne...|    Mangalore|     Karnataka|     credit|\n",
      "|   111|05-29-2014|    5000007|     18028|[Outdoor Recreati...|      Madurai|    Tamil Nadu|     credit|\n",
      "|   134|06-15-2014|    5000008|     15415|[Outdoor Recreati...|    Vijaywada|Andhra Pradesh|     credit|\n",
      "|   112|06-18-2014|    5000009|     12139|[Outdoor Play Equ...|       Jaipur|     Rajesthan|     credit|\n",
      "|   157|06-21-2014|    5000002|     17663|[Outdoor Recreati...|  Ghandinagar|        Gujrat|     credit|\n",
      "|   149|09-27-2014|    5000007|     15794|[Exercise & Fitne...|     Ludhiana|        Punjab|     credit|\n",
      "|   126|10-14-2014|    5000009|     14420|[Indoor Games,Darts]|    Allahabad| Uttar Pradesh|     credit|\n",
      "+------+----------+-----------+----------+--------------------+-------------+--------------+-----------+\n",
      "only showing top 20 rows\n",
      "\n"
     ]
    }
   ],
   "source": [
    "newformatDF.show()"
   ]
  },
  {
   "cell_type": "code",
   "execution_count": 15,
   "metadata": {},
   "outputs": [],
   "source": [
    "newformatDF.coalesce(1).write.json(\"newformatJSON\")"
   ]
  },
  {
   "cell_type": "code",
   "execution_count": null,
   "metadata": {},
   "outputs": [],
   "source": []
  }
 ],
 "metadata": {
  "kernelspec": {
   "display_name": "Python 3",
   "language": "python",
   "name": "python3"
  },
  "language_info": {
   "codemirror_mode": {
    "name": "ipython",
    "version": 3
   },
   "file_extension": ".py",
   "mimetype": "text/x-python",
   "name": "python",
   "nbconvert_exporter": "python",
   "pygments_lexer": "ipython3",
   "version": "3.5.2"
  }
 },
 "nbformat": 4,
 "nbformat_minor": 2
}
