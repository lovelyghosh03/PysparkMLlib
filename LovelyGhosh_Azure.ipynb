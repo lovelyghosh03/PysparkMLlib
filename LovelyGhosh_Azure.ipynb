{
 "cells": [
  {
   "cell_type": "markdown",
   "metadata": {},
   "source": [
    "Load the data of the file into PySpark SQL DataFrames"
   ]
  },
  {
   "cell_type": "code",
   "execution_count": 28,
   "metadata": {},
   "outputs": [],
   "source": [
    "import findspark\n",
    "findspark.init('/usr/local/spark/')\n",
    "import pyspark\n",
    "from pyspark.sql import SparkSession\n",
    "spark = SparkSession.builder.appName(\"Python Spark SQL\").getOrCreate()\n"
   ]
  },
  {
   "cell_type": "code",
   "execution_count": 8,
   "metadata": {},
   "outputs": [],
   "source": [
    "df = spark.read.load(\"CreditCard.csv\", format=\"csv\",  inferSchema=\"true\", header=\"true\")"
   ]
  },
  {
   "cell_type": "markdown",
   "metadata": {},
   "source": [
    "Print the schema of the DataFrame"
   ]
  },
  {
   "cell_type": "code",
   "execution_count": 6,
   "metadata": {
    "scrolled": true
   },
   "outputs": [
    {
     "name": "stdout",
     "output_type": "stream",
     "text": [
      "root\n",
      " |-- RowNumber: integer (nullable = true)\n",
      " |-- CustomerId: integer (nullable = true)\n",
      " |-- Surname: string (nullable = true)\n",
      " |-- CreditScore: integer (nullable = true)\n",
      " |-- Gender: string (nullable = true)\n",
      " |-- Age: integer (nullable = true)\n",
      " |-- Tenure: integer (nullable = true)\n",
      " |-- Balance: double (nullable = true)\n",
      " |-- NumOfProducts: integer (nullable = true)\n",
      " |-- EstimatedSalary: double (nullable = true)\n",
      " |-- Exited: integer (nullable = true)\n",
      " |-- eligible: boolean (nullable = true)\n",
      " |-- active: boolean (nullable = true)\n",
      " |-- country: string (nullable = true)\n",
      "\n"
     ]
    }
   ],
   "source": [
    "df.printSchema()"
   ]
  },
  {
   "cell_type": "markdown",
   "metadata": {},
   "source": [
    "Show the first 10 rows of the DataFrame"
   ]
  },
  {
   "cell_type": "code",
   "execution_count": 10,
   "metadata": {},
   "outputs": [
    {
     "name": "stdout",
     "output_type": "stream",
     "text": [
      "+---------+----------+--------+-----------+------+---+------+---------+-------------+---------------+------+--------+------+-------+\n",
      "|RowNumber|CustomerId| Surname|CreditScore|Gender|Age|Tenure|  Balance|NumOfProducts|EstimatedSalary|Exited|eligible|active|country|\n",
      "+---------+----------+--------+-----------+------+---+------+---------+-------------+---------------+------+--------+------+-------+\n",
      "|        1|  15634602|Hargrave|        619|Female| 42|     2|      0.0|            1|      101348.88|     1|    true|  true| Canada|\n",
      "|        2|  15647311|    Hill|        608|Female| 41|     1| 83807.86|            1|      112542.58|     0|   false| false| France|\n",
      "|        3|  15619304|    Onio|        502|Female| 42|     8| 159660.8|            3|      113931.57|     1|    true|  true|    USA|\n",
      "|        4|  15701354|    Boni|        699|Female| 39|     1|      0.0|            2|       93826.63|     0|    true| false|  Italy|\n",
      "|        5|  15737888|Mitchell|        850|Female| 43|     2|125510.82|            1|        79084.1|     0|    true| false|     UK|\n",
      "|        6|  15574012|     Chu|        645|  Male| 44|     8|113755.78|            2|      149756.71|     1|   false|  true|Germany|\n",
      "|        7|  15592531|Bartlett|        822|  Male| 50|     7|      0.0|            2|        10062.8|     0|    true| false|Germany|\n",
      "|        8|  15656148|  Obinna|        376|Female| 29|     4|115046.74|            4|      119346.88|     1|    true| false|Germany|\n",
      "|        9|  15792365|      He|        501|  Male| 44|     4|142051.07|            2|        74940.5|     0|    true|  true| Canada|\n",
      "|       10|  15592389|      H?|        684|  Male| 27|     2|134603.88|            1|       71725.73|     0|   false|  true|     UK|\n",
      "+---------+----------+--------+-----------+------+---+------+---------+-------------+---------------+------+--------+------+-------+\n",
      "only showing top 10 rows\n",
      "\n"
     ]
    }
   ],
   "source": [
    "df.show(10)"
   ]
  },
  {
   "cell_type": "code",
   "execution_count": 18,
   "metadata": {},
   "outputs": [],
   "source": [
    "df.createOrReplaceTempView(\"CreditCard\")"
   ]
  },
  {
   "cell_type": "markdown",
   "metadata": {},
   "source": [
    "Number of members eligible for credit card "
   ]
  },
  {
   "cell_type": "code",
   "execution_count": 22,
   "metadata": {},
   "outputs": [
    {
     "name": "stdout",
     "output_type": "stream",
     "text": [
      "+--------+\n",
      "|count(1)|\n",
      "+--------+\n",
      "|    5013|\n",
      "+--------+\n",
      "\n"
     ]
    }
   ],
   "source": [
    "eligible_for_creditCard = spark.sql(\"SELECT  count(*) FROM CreditCard where eligible='true'\")\n",
    "eligible_for_creditCard.show()"
   ]
  },
  {
   "cell_type": "markdown",
   "metadata": {},
   "source": [
    "Number of members who are eligible and active"
   ]
  },
  {
   "cell_type": "code",
   "execution_count": 23,
   "metadata": {},
   "outputs": [
    {
     "name": "stdout",
     "output_type": "stream",
     "text": [
      "+--------+\n",
      "|count(1)|\n",
      "+--------+\n",
      "|    2495|\n",
      "+--------+\n",
      "\n"
     ]
    }
   ],
   "source": [
    "eligible_and_active = spark.sql(\"SELECT  count(*) FROM CreditCard where eligible='true' and active='true'\")\n",
    "eligible_and_active.show()"
   ]
  },
  {
   "cell_type": "markdown",
   "metadata": {},
   "source": [
    "Credit card users belonging to Spain"
   ]
  },
  {
   "cell_type": "code",
   "execution_count": 24,
   "metadata": {},
   "outputs": [
    {
     "name": "stdout",
     "output_type": "stream",
     "text": [
      "+---------+----------+---------+-----------+------+---+------+---------+-------------+---------------+------+--------+------+-------+\n",
      "|RowNumber|CustomerId|  Surname|CreditScore|Gender|Age|Tenure|  Balance|NumOfProducts|EstimatedSalary|Exited|eligible|active|country|\n",
      "+---------+----------+---------+-----------+------+---+------+---------+-------------+---------------+------+--------+------+-------+\n",
      "|       11|  15767821|   Bearce|        528|  Male| 31|     6|102016.72|            2|       80181.12|     0|    true|  true|  Spain|\n",
      "|       13|  15632264|      Kay|        476|Female| 34|    10|      0.0|            2|       26260.98|     0|    true| false|  Spain|\n",
      "|       17|  15737452|    Romeo|        653|  Male| 58|     1|132602.88|            1|        5097.67|     1|   false|  true|  Spain|\n",
      "|       21|  15577657| McDonald|        732|  Male| 41|     8|      0.0|            2|      170886.17|     0|   false| false|  Spain|\n",
      "|       43|  15687946|  Osborne|        556|Female| 61|     2|117419.35|            1|       94153.83|     0|   false|  true|  Spain|\n",
      "|       50|  15771873|   Buccho|        776|Female| 37|     2|103769.22|            2|      194099.12|     0|   false| false|  Spain|\n",
      "|       52|  15768193|Trevisani|        585|  Male| 36|     5|146050.97|            2|       86424.57|     0|   false|  true|  Spain|\n",
      "|       56|  15760861|Phillipps|        619|  Male| 43|     1|125211.92|            1|      113410.49|     0|   false| false|  Spain|\n",
      "|       62|  15773469|    Clark|        687|Female| 27|     9|152328.88|            2|      126494.82|     0|    true|  true|  Spain|\n",
      "|       68|  15641582|  Chibugo|        735|  Male| 43|    10|123180.01|            2|      196673.28|     0|    true| false|  Spain|\n",
      "|       70|  15755648|   Pisano|        675|Female| 21|     8| 98373.26|            1|        18203.0|     0|   false| false|  Spain|\n",
      "|       84|  15701164|Onyeorulu|        506|Female| 34|     4| 90307.62|            1|      159235.29|     0|   false| false|  Spain|\n",
      "|      100|  15633059|  Fanucci|        413|  Male| 34|     9|      0.0|            2|        6534.18|     0|    true| false|  Spain|\n",
      "|      102|  15743192|     Hung|        623|Female| 44|     6|      0.0|            2|      167162.43|     0|   false|  true|  Spain|\n",
      "|      138|  15610156|       Ma|        637|  Male| 40|     2| 133463.1|            1|       93165.34|     0|    true| false|  Spain|\n",
      "|      141|  15698932|   Groves|        756|  Male| 44|    10|137452.09|            1|       189543.9|     0|   false|  true|  Spain|\n",
      "|      151|  15650237|   Morgan|        754|Female| 32|     7|      0.0|            2|       89520.75|     0|    true| false|  Spain|\n",
      "|      156|  15679145|     Chou|        706|  Male| 57|     7|      0.0|            1|       17941.16|     1|   false|  true|  Spain|\n",
      "|      161|  15692132|Wilkinson|        717|Female| 22|     6|101060.25|            1|       84699.56|     0|    true| false|  Spain|\n",
      "|      165|  15658929| Taverner|        683|  Male| 29|     0|133702.89|            1|       55582.54|     1|   false| false|  Spain|\n",
      "+---------+----------+---------+-----------+------+---+------+---------+-------------+---------------+------+--------+------+-------+\n",
      "only showing top 20 rows\n",
      "\n"
     ]
    }
   ],
   "source": [
    "user_spain = spark.sql(\"SELECT  * FROM CreditCard where country='Spain'\")\n",
    "user_spain.show()"
   ]
  },
  {
   "cell_type": "markdown",
   "metadata": {},
   "source": [
    "Save the above output as comma separated value files"
   ]
  },
  {
   "cell_type": "code",
   "execution_count": 27,
   "metadata": {},
   "outputs": [],
   "source": [
    "output_path=\"/home/hduser/hive/PySPark/AssessmentOP\"\n",
    "user_spain.write.csv(output_path,header=True)"
   ]
  },
  {
   "cell_type": "code",
   "execution_count": null,
   "metadata": {},
   "outputs": [],
   "source": []
  }
 ],
 "metadata": {
  "kernelspec": {
   "display_name": "Python 3",
   "language": "python",
   "name": "python3"
  },
  "language_info": {
   "codemirror_mode": {
    "name": "ipython",
    "version": 3
   },
   "file_extension": ".py",
   "mimetype": "text/x-python",
   "name": "python",
   "nbconvert_exporter": "python",
   "pygments_lexer": "ipython3",
   "version": "3.5.2"
  }
 },
 "nbformat": 4,
 "nbformat_minor": 2
}
